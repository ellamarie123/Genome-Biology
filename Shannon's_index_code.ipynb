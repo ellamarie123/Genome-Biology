{
 "cells": [
  {
   "cell_type": "code",
   "execution_count": 1,
   "id": "fe75d160-852b-4e2b-a752-fcbaa195bbbb",
   "metadata": {
    "tags": []
   },
   "outputs": [
    {
     "name": "stdout",
     "output_type": "stream",
     "text": [
      "Shannon Diversity Index: 0.7464125420158799\n",
      "Effective Species Number: 2.109418974466357\n"
     ]
    }
   ],
   "source": [
    "# Import relevant module\n",
    "import math\n",
    "\n",
    "# define function to calculate shannon's index \n",
    "def shannon_diversity(taxonomic_counts):\n",
    "    # Compute total number of contigs\n",
    "    total_counts = sum(taxonomic_counts.values())\n",
    "\n",
    "    # Shannon index calculation\n",
    "    H = - sum((count / total_counts) * math.log(count / total_counts) for count in taxonomic_counts.values() if count > 0)\n",
    "\n",
    "    return H\n",
    "\n",
    "# Construct dictionary of taxonomy and sequence counts based on KEGG outputs\n",
    "taxonomic_counts = {\n",
    "    \"Bacteria Clostridia\": 2743,\n",
    "    \"Archaea Euryarchaeota\": 2351,\n",
    "    \"Bacteria Cyanobacteriota\": 4,\n",
    "    \"Bacteria Thermodesulfobacteriota\": 4,\n",
    "    \"Bacteria Thermotogota\": 3,\n",
    "    \"Archaea Candidatus Thermoplasmatota\": 2,\n",
    "    \"Archaea Thermoproteota\": 2,\n",
    "    \"Bacteria Bacilli\": 2,\n",
    "    \"Bacteria Other Bacillota\": 2,\n",
    "    \"Bacteria Other Gammaproteobacteria\": 2,\n",
    "    \"Archaea Candidatus Micrarchaeota\": 1,\n",
    "    \"Bacteria Planctomycetota\": 1,\n",
    "    \"Bacteria Atribacterota\": 1,\n",
    "    \"Bacteria unclassified Bacteria\": 1,\n",
    "    \"Bacteria Deferribacterota\": 1,\n",
    "    \"Bacteria Actinomycetota\": 1,\n",
    "    \"Bacteria Spirochaetota\": 1,\n",
    "    \"Bacteria Myxococcota\": 1,\n",
    "    \"Archaea Nitrososphaerota\": 1,\n",
    "    \"Bacteria Dictyoglomota\": 1,\n",
    "    \"Archaea unclassified Archaea\": 1,\n",
    "    \"Bacteria Nitrospirota\": 1,\n",
    "    \"Bacteria Nitrospinota\": 1,\n",
    "    \"Bacteria Chloroflexota\": 1\n",
    "}\n",
    "\n",
    "# Compute shannon's index of dataset\n",
    "shannon_index = shannon_diversity(taxonomic_counts)\n",
    "\n",
    "# Calculate exponential of shannon's index to give effective species number\n",
    "effective_species_number = math.exp(shannon_index)\n",
    "\n",
    "# Print both metrics\n",
    "print(f\"Shannon Diversity Index: {shannon_index}\")\n",
    "print(f\"Effective Species Number: {effective_species_number}\")"
   ]
  }
 ],
 "metadata": {
  "kernelspec": {
   "display_name": "Python 3 (ipykernel)",
   "language": "python",
   "name": "python3"
  },
  "language_info": {
   "codemirror_mode": {
    "name": "ipython",
    "version": 3
   },
   "file_extension": ".py",
   "mimetype": "text/x-python",
   "name": "python",
   "nbconvert_exporter": "python",
   "pygments_lexer": "ipython3",
   "version": "3.11.5"
  }
 },
 "nbformat": 4,
 "nbformat_minor": 5
}
